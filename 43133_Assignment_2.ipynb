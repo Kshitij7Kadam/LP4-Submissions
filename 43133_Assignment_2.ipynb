{
 "cells": [
  {
   "cell_type": "markdown",
   "metadata": {
    "id": "alXe8l5FZMTD"
   },
   "source": [
    "## Assignment 2\n",
    "### Name: Kshitij Mohan Kadam\n",
    "### Roll NO: 43133\n",
    "### Batch:Q9"
   ]
  },
  {
   "cell_type": "markdown",
   "metadata": {
    "id": "h4r6NekdZljO"
   },
   "source": [
    "### 1. import the necessary packages"
   ]
  },
  {
   "cell_type": "code",
   "execution_count": 1,
   "metadata": {
    "id": "zSf71UhmZHIB"
   },
   "outputs": [],
   "source": [
    "from sklearn.preprocessing import LabelBinarizer\n",
    "from sklearn.metrics import classification_report\n",
    "from tensorflow.keras.models import Sequential\n",
    "from tensorflow.keras.layers import Dense\n",
    "from tensorflow.keras.optimizers import SGD\n",
    "from tensorflow.keras.datasets import mnist\n",
    "from tensorflow.keras import backend as K\n",
    "import matplotlib.pyplot as plt\n",
    "import numpy as np\n",
    "import argparse\n"
   ]
  },
  {
   "cell_type": "markdown",
   "metadata": {
    "id": "6ONu0PPeZrPk"
   },
   "source": [
    "### 2. Grab the MNIST dataset "
   ]
  },
  {
   "cell_type": "code",
   "execution_count": 2,
   "metadata": {
    "colab": {
     "base_uri": "https://localhost:8080/"
    },
    "id": "6MfH9sQMZPGd",
    "outputId": "a5608457-44cf-4f41-ef84-d8c0b9e69529"
   },
   "outputs": [
    {
     "name": "stdout",
     "output_type": "stream",
     "text": [
      "Accessing MNIST...\n",
      "Downloading data from https://storage.googleapis.com/tensorflow/tf-keras-datasets/mnist.npz\n",
      "11490434/11490434 [==============================] - 2s 0us/step\n"
     ]
    }
   ],
   "source": [
    "print(\"Accessing MNIST...\")\n",
    "((trainX, trainY), (testX, testY)) = mnist.load_data()\n",
    "\n",
    "# each image in the MNIST dataset is represented as a 28x28x1 image, but in order to apply a standard neural network we must first \"flatten\" the image to be simple list of 28x28=784 pixels\n",
    "\n",
    "trainX = trainX.reshape((trainX.shape[0], 28 * 28 * 1))\n",
    "testX = testX.reshape((testX.shape[0], 28 * 28 * 1))\n",
    "# scale data to the range of [0, 1]\n",
    "trainX = trainX.astype(\"float32\") / 255.0\n",
    "testX = testX.astype(\"float32\") / 255.0\n",
    "\n",
    "# convert the labels from integers to vectors\n",
    "le = LabelBinarizer()\n",
    "trainY = le.fit_transform(trainY)\n",
    "testY = le.transform(testY)"
   ]
  },
  {
   "cell_type": "markdown",
   "metadata": {
    "id": "GGm75yDRZwQF"
   },
   "source": [
    "### 3. Feed forward Neural Network"
   ]
  },
  {
   "cell_type": "code",
   "execution_count": 3,
   "metadata": {
    "id": "SoXFWFRXZVkL"
   },
   "outputs": [],
   "source": [
    "model = Sequential()\n",
    "model.add(Dense(256, input_shape=(784,), activation=\"sigmoid\"))\n",
    "model.add(Dense(128, activation=\"sigmoid\"))\n",
    "model.add(Dense(10, activation=\"softmax\"))"
   ]
  },
  {
   "cell_type": "markdown",
   "metadata": {
    "id": "Yu6lPraUZ1fq"
   },
   "source": [
    "### 4. Adding SGD optimizer and training"
   ]
  },
  {
   "cell_type": "code",
   "execution_count": 4,
   "metadata": {
    "colab": {
     "base_uri": "https://localhost:8080/"
    },
    "id": "75gymNbaZYyo",
    "outputId": "30c738e0-2612-4539-951f-c16c0d7ac7f1"
   },
   "outputs": [
    {
     "name": "stdout",
     "output_type": "stream",
     "text": [
      "Epoch 1/100\n",
      "469/469 [==============================] - 2s 3ms/step - loss: 2.2791 - accuracy: 0.2101 - val_loss: 2.2362 - val_accuracy: 0.3030\n",
      "Epoch 2/100\n",
      "469/469 [==============================] - 1s 2ms/step - loss: 2.2044 - accuracy: 0.4024 - val_loss: 2.1632 - val_accuracy: 0.5345\n",
      "Epoch 3/100\n",
      "469/469 [==============================] - 1s 2ms/step - loss: 2.1193 - accuracy: 0.5469 - val_loss: 2.0606 - val_accuracy: 0.5695\n",
      "Epoch 4/100\n",
      "469/469 [==============================] - 1s 2ms/step - loss: 1.9964 - accuracy: 0.6203 - val_loss: 1.9096 - val_accuracy: 0.6293\n",
      "Epoch 5/100\n",
      "469/469 [==============================] - 1s 2ms/step - loss: 1.8209 - accuracy: 0.6487 - val_loss: 1.7045 - val_accuracy: 0.6618\n",
      "Epoch 6/100\n",
      "469/469 [==============================] - 1s 2ms/step - loss: 1.6029 - accuracy: 0.6745 - val_loss: 1.4752 - val_accuracy: 0.6990\n",
      "Epoch 7/100\n",
      "469/469 [==============================] - 1s 2ms/step - loss: 1.3830 - accuracy: 0.7016 - val_loss: 1.2663 - val_accuracy: 0.7244\n",
      "Epoch 8/100\n",
      "469/469 [==============================] - 1s 2ms/step - loss: 1.1972 - accuracy: 0.7289 - val_loss: 1.1021 - val_accuracy: 0.7510\n",
      "Epoch 9/100\n",
      "469/469 [==============================] - 1s 2ms/step - loss: 1.0543 - accuracy: 0.7516 - val_loss: 0.9776 - val_accuracy: 0.7739\n",
      "Epoch 10/100\n",
      "469/469 [==============================] - 1s 3ms/step - loss: 0.9454 - accuracy: 0.7722 - val_loss: 0.8821 - val_accuracy: 0.7863\n",
      "Epoch 11/100\n",
      "469/469 [==============================] - 1s 2ms/step - loss: 0.8608 - accuracy: 0.7871 - val_loss: 0.8068 - val_accuracy: 0.8042\n",
      "Epoch 12/100\n",
      "469/469 [==============================] - 1s 2ms/step - loss: 0.7928 - accuracy: 0.8036 - val_loss: 0.7453 - val_accuracy: 0.8155\n",
      "Epoch 13/100\n",
      "469/469 [==============================] - 1s 2ms/step - loss: 0.7370 - accuracy: 0.8154 - val_loss: 0.6951 - val_accuracy: 0.8236\n",
      "Epoch 14/100\n",
      "469/469 [==============================] - 1s 3ms/step - loss: 0.6903 - accuracy: 0.8260 - val_loss: 0.6514 - val_accuracy: 0.8357\n",
      "Epoch 15/100\n",
      "469/469 [==============================] - 1s 2ms/step - loss: 0.6507 - accuracy: 0.8360 - val_loss: 0.6157 - val_accuracy: 0.8413\n",
      "Epoch 16/100\n",
      "469/469 [==============================] - 1s 2ms/step - loss: 0.6168 - accuracy: 0.8425 - val_loss: 0.5842 - val_accuracy: 0.8509\n",
      "Epoch 17/100\n",
      "469/469 [==============================] - 1s 2ms/step - loss: 0.5875 - accuracy: 0.8498 - val_loss: 0.5566 - val_accuracy: 0.8559\n",
      "Epoch 18/100\n",
      "469/469 [==============================] - 1s 2ms/step - loss: 0.5620 - accuracy: 0.8555 - val_loss: 0.5330 - val_accuracy: 0.8627\n",
      "Epoch 19/100\n",
      "469/469 [==============================] - 1s 2ms/step - loss: 0.5395 - accuracy: 0.8605 - val_loss: 0.5117 - val_accuracy: 0.8673\n",
      "Epoch 20/100\n",
      "469/469 [==============================] - 1s 2ms/step - loss: 0.5198 - accuracy: 0.8652 - val_loss: 0.4936 - val_accuracy: 0.8727\n",
      "Epoch 21/100\n",
      "469/469 [==============================] - 1s 2ms/step - loss: 0.5022 - accuracy: 0.8691 - val_loss: 0.4778 - val_accuracy: 0.8759\n",
      "Epoch 22/100\n",
      "469/469 [==============================] - 1s 2ms/step - loss: 0.4865 - accuracy: 0.8727 - val_loss: 0.4629 - val_accuracy: 0.8784\n",
      "Epoch 23/100\n",
      "469/469 [==============================] - 1s 2ms/step - loss: 0.4724 - accuracy: 0.8759 - val_loss: 0.4495 - val_accuracy: 0.8810\n",
      "Epoch 24/100\n",
      "469/469 [==============================] - 1s 2ms/step - loss: 0.4598 - accuracy: 0.8784 - val_loss: 0.4379 - val_accuracy: 0.8838\n",
      "Epoch 25/100\n",
      "469/469 [==============================] - 1s 2ms/step - loss: 0.4484 - accuracy: 0.8809 - val_loss: 0.4272 - val_accuracy: 0.8857\n",
      "Epoch 26/100\n",
      "469/469 [==============================] - 1s 3ms/step - loss: 0.4381 - accuracy: 0.8830 - val_loss: 0.4181 - val_accuracy: 0.8873\n",
      "Epoch 27/100\n",
      "469/469 [==============================] - 1s 2ms/step - loss: 0.4286 - accuracy: 0.8855 - val_loss: 0.4090 - val_accuracy: 0.8891\n",
      "Epoch 28/100\n",
      "469/469 [==============================] - 1s 3ms/step - loss: 0.4201 - accuracy: 0.8866 - val_loss: 0.4006 - val_accuracy: 0.8914\n",
      "Epoch 29/100\n",
      "469/469 [==============================] - 1s 3ms/step - loss: 0.4124 - accuracy: 0.8885 - val_loss: 0.3940 - val_accuracy: 0.8928\n",
      "Epoch 30/100\n",
      "469/469 [==============================] - 1s 3ms/step - loss: 0.4052 - accuracy: 0.8901 - val_loss: 0.3869 - val_accuracy: 0.8942\n",
      "Epoch 31/100\n",
      "469/469 [==============================] - 1s 2ms/step - loss: 0.3987 - accuracy: 0.8911 - val_loss: 0.3812 - val_accuracy: 0.8955\n",
      "Epoch 32/100\n",
      "469/469 [==============================] - 1s 2ms/step - loss: 0.3927 - accuracy: 0.8927 - val_loss: 0.3753 - val_accuracy: 0.8967\n",
      "Epoch 33/100\n",
      "469/469 [==============================] - 1s 2ms/step - loss: 0.3871 - accuracy: 0.8936 - val_loss: 0.3703 - val_accuracy: 0.8978\n",
      "Epoch 34/100\n",
      "469/469 [==============================] - 1s 3ms/step - loss: 0.3819 - accuracy: 0.8950 - val_loss: 0.3662 - val_accuracy: 0.8990\n",
      "Epoch 35/100\n",
      "469/469 [==============================] - 1s 3ms/step - loss: 0.3771 - accuracy: 0.8957 - val_loss: 0.3612 - val_accuracy: 0.8996\n",
      "Epoch 36/100\n",
      "469/469 [==============================] - 1s 2ms/step - loss: 0.3726 - accuracy: 0.8967 - val_loss: 0.3570 - val_accuracy: 0.9006\n",
      "Epoch 37/100\n",
      "469/469 [==============================] - 1s 3ms/step - loss: 0.3684 - accuracy: 0.8975 - val_loss: 0.3535 - val_accuracy: 0.9003\n",
      "Epoch 38/100\n",
      "469/469 [==============================] - 1s 3ms/step - loss: 0.3644 - accuracy: 0.8985 - val_loss: 0.3501 - val_accuracy: 0.9003\n",
      "Epoch 39/100\n",
      "469/469 [==============================] - 1s 3ms/step - loss: 0.3607 - accuracy: 0.8990 - val_loss: 0.3467 - val_accuracy: 0.9024\n",
      "Epoch 40/100\n",
      "469/469 [==============================] - 1s 2ms/step - loss: 0.3572 - accuracy: 0.8998 - val_loss: 0.3432 - val_accuracy: 0.9035\n",
      "Epoch 41/100\n",
      "469/469 [==============================] - 1s 2ms/step - loss: 0.3539 - accuracy: 0.9005 - val_loss: 0.3399 - val_accuracy: 0.9034\n",
      "Epoch 42/100\n",
      "469/469 [==============================] - 1s 2ms/step - loss: 0.3507 - accuracy: 0.9015 - val_loss: 0.3373 - val_accuracy: 0.9042\n",
      "Epoch 43/100\n",
      "469/469 [==============================] - 1s 2ms/step - loss: 0.3477 - accuracy: 0.9021 - val_loss: 0.3345 - val_accuracy: 0.9063\n",
      "Epoch 44/100\n",
      "469/469 [==============================] - 1s 3ms/step - loss: 0.3449 - accuracy: 0.9026 - val_loss: 0.3317 - val_accuracy: 0.9060\n",
      "Epoch 45/100\n",
      "469/469 [==============================] - 1s 3ms/step - loss: 0.3421 - accuracy: 0.9031 - val_loss: 0.3292 - val_accuracy: 0.9057\n",
      "Epoch 46/100\n",
      "469/469 [==============================] - 1s 2ms/step - loss: 0.3396 - accuracy: 0.9035 - val_loss: 0.3271 - val_accuracy: 0.9069\n",
      "Epoch 47/100\n",
      "469/469 [==============================] - 1s 3ms/step - loss: 0.3371 - accuracy: 0.9043 - val_loss: 0.3242 - val_accuracy: 0.9067\n",
      "Epoch 48/100\n",
      "469/469 [==============================] - 1s 3ms/step - loss: 0.3347 - accuracy: 0.9047 - val_loss: 0.3222 - val_accuracy: 0.9090\n",
      "Epoch 49/100\n",
      "469/469 [==============================] - 1s 2ms/step - loss: 0.3325 - accuracy: 0.9054 - val_loss: 0.3200 - val_accuracy: 0.9089\n",
      "Epoch 50/100\n",
      "469/469 [==============================] - 1s 2ms/step - loss: 0.3302 - accuracy: 0.9058 - val_loss: 0.3187 - val_accuracy: 0.9092\n",
      "Epoch 51/100\n",
      "469/469 [==============================] - 1s 3ms/step - loss: 0.3281 - accuracy: 0.9063 - val_loss: 0.3165 - val_accuracy: 0.9098\n",
      "Epoch 52/100\n",
      "469/469 [==============================] - 1s 2ms/step - loss: 0.3261 - accuracy: 0.9066 - val_loss: 0.3147 - val_accuracy: 0.9104\n",
      "Epoch 53/100\n",
      "469/469 [==============================] - 1s 2ms/step - loss: 0.3241 - accuracy: 0.9072 - val_loss: 0.3128 - val_accuracy: 0.9107\n",
      "Epoch 54/100\n",
      "469/469 [==============================] - 1s 3ms/step - loss: 0.3221 - accuracy: 0.9078 - val_loss: 0.3108 - val_accuracy: 0.9116\n",
      "Epoch 55/100\n",
      "469/469 [==============================] - 1s 2ms/step - loss: 0.3203 - accuracy: 0.9079 - val_loss: 0.3096 - val_accuracy: 0.9115\n",
      "Epoch 56/100\n",
      "469/469 [==============================] - 1s 3ms/step - loss: 0.3185 - accuracy: 0.9086 - val_loss: 0.3076 - val_accuracy: 0.9131\n",
      "Epoch 57/100\n",
      "469/469 [==============================] - 1s 2ms/step - loss: 0.3168 - accuracy: 0.9089 - val_loss: 0.3063 - val_accuracy: 0.9129\n"
     ]
    },
    {
     "name": "stdout",
     "output_type": "stream",
     "text": [
      "Epoch 58/100\n",
      "469/469 [==============================] - 1s 2ms/step - loss: 0.3151 - accuracy: 0.9096 - val_loss: 0.3047 - val_accuracy: 0.9136\n",
      "Epoch 59/100\n",
      "469/469 [==============================] - 1s 2ms/step - loss: 0.3134 - accuracy: 0.9097 - val_loss: 0.3030 - val_accuracy: 0.9135\n",
      "Epoch 60/100\n",
      "469/469 [==============================] - 1s 3ms/step - loss: 0.3119 - accuracy: 0.9103 - val_loss: 0.3019 - val_accuracy: 0.9133\n",
      "Epoch 61/100\n",
      "469/469 [==============================] - 1s 2ms/step - loss: 0.3103 - accuracy: 0.9107 - val_loss: 0.3005 - val_accuracy: 0.9145\n",
      "Epoch 62/100\n",
      "469/469 [==============================] - 1s 2ms/step - loss: 0.3088 - accuracy: 0.9110 - val_loss: 0.2990 - val_accuracy: 0.9144\n",
      "Epoch 63/100\n",
      "469/469 [==============================] - 1s 3ms/step - loss: 0.3073 - accuracy: 0.9115 - val_loss: 0.2974 - val_accuracy: 0.9149\n",
      "Epoch 64/100\n",
      "469/469 [==============================] - 1s 3ms/step - loss: 0.3059 - accuracy: 0.9117 - val_loss: 0.2959 - val_accuracy: 0.9154\n",
      "Epoch 65/100\n",
      "469/469 [==============================] - 1s 2ms/step - loss: 0.3045 - accuracy: 0.9122 - val_loss: 0.2949 - val_accuracy: 0.9156\n",
      "Epoch 66/100\n",
      "469/469 [==============================] - 1s 2ms/step - loss: 0.3031 - accuracy: 0.9127 - val_loss: 0.2938 - val_accuracy: 0.9162\n",
      "Epoch 67/100\n",
      "469/469 [==============================] - 1s 2ms/step - loss: 0.3017 - accuracy: 0.9130 - val_loss: 0.2929 - val_accuracy: 0.9162\n",
      "Epoch 68/100\n",
      "469/469 [==============================] - 1s 2ms/step - loss: 0.3005 - accuracy: 0.9132 - val_loss: 0.2913 - val_accuracy: 0.9163\n",
      "Epoch 69/100\n",
      "469/469 [==============================] - 1s 2ms/step - loss: 0.2991 - accuracy: 0.9136 - val_loss: 0.2896 - val_accuracy: 0.9170\n",
      "Epoch 70/100\n",
      "469/469 [==============================] - 1s 2ms/step - loss: 0.2979 - accuracy: 0.9142 - val_loss: 0.2889 - val_accuracy: 0.9169\n",
      "Epoch 71/100\n",
      "469/469 [==============================] - 1s 2ms/step - loss: 0.2968 - accuracy: 0.9142 - val_loss: 0.2882 - val_accuracy: 0.9174\n",
      "Epoch 72/100\n",
      "469/469 [==============================] - 1s 2ms/step - loss: 0.2955 - accuracy: 0.9146 - val_loss: 0.2873 - val_accuracy: 0.9176\n",
      "Epoch 73/100\n",
      "469/469 [==============================] - 1s 3ms/step - loss: 0.2943 - accuracy: 0.9150 - val_loss: 0.2861 - val_accuracy: 0.9174\n",
      "Epoch 74/100\n",
      "469/469 [==============================] - 1s 2ms/step - loss: 0.2931 - accuracy: 0.9148 - val_loss: 0.2851 - val_accuracy: 0.9182\n",
      "Epoch 75/100\n",
      "469/469 [==============================] - 1s 2ms/step - loss: 0.2920 - accuracy: 0.9154 - val_loss: 0.2840 - val_accuracy: 0.9183\n",
      "Epoch 76/100\n",
      "469/469 [==============================] - 1s 2ms/step - loss: 0.2909 - accuracy: 0.9157 - val_loss: 0.2828 - val_accuracy: 0.9188\n",
      "Epoch 77/100\n",
      "469/469 [==============================] - 1s 3ms/step - loss: 0.2897 - accuracy: 0.9163 - val_loss: 0.2823 - val_accuracy: 0.9182\n",
      "Epoch 78/100\n",
      "469/469 [==============================] - 1s 3ms/step - loss: 0.2887 - accuracy: 0.9164 - val_loss: 0.2808 - val_accuracy: 0.9189\n",
      "Epoch 79/100\n",
      "469/469 [==============================] - 1s 3ms/step - loss: 0.2876 - accuracy: 0.9164 - val_loss: 0.2804 - val_accuracy: 0.9191\n",
      "Epoch 80/100\n",
      "469/469 [==============================] - 1s 3ms/step - loss: 0.2865 - accuracy: 0.9166 - val_loss: 0.2793 - val_accuracy: 0.9195\n",
      "Epoch 81/100\n",
      "469/469 [==============================] - 1s 2ms/step - loss: 0.2855 - accuracy: 0.9174 - val_loss: 0.2781 - val_accuracy: 0.9193\n",
      "Epoch 82/100\n",
      "469/469 [==============================] - 1s 3ms/step - loss: 0.2844 - accuracy: 0.9176 - val_loss: 0.2770 - val_accuracy: 0.9204\n",
      "Epoch 83/100\n",
      "469/469 [==============================] - 1s 3ms/step - loss: 0.2834 - accuracy: 0.9177 - val_loss: 0.2763 - val_accuracy: 0.9213\n",
      "Epoch 84/100\n",
      "469/469 [==============================] - 1s 3ms/step - loss: 0.2825 - accuracy: 0.9180 - val_loss: 0.2752 - val_accuracy: 0.9207\n",
      "Epoch 85/100\n",
      "469/469 [==============================] - 1s 3ms/step - loss: 0.2815 - accuracy: 0.9184 - val_loss: 0.2745 - val_accuracy: 0.9213\n",
      "Epoch 86/100\n",
      "469/469 [==============================] - 1s 3ms/step - loss: 0.2805 - accuracy: 0.9184 - val_loss: 0.2739 - val_accuracy: 0.9221\n",
      "Epoch 87/100\n",
      "469/469 [==============================] - 1s 3ms/step - loss: 0.2795 - accuracy: 0.9188 - val_loss: 0.2726 - val_accuracy: 0.9226\n",
      "Epoch 88/100\n",
      "469/469 [==============================] - 1s 2ms/step - loss: 0.2785 - accuracy: 0.9187 - val_loss: 0.2723 - val_accuracy: 0.9226\n",
      "Epoch 89/100\n",
      "469/469 [==============================] - 1s 2ms/step - loss: 0.2777 - accuracy: 0.9192 - val_loss: 0.2710 - val_accuracy: 0.9230\n",
      "Epoch 90/100\n",
      "469/469 [==============================] - 1s 2ms/step - loss: 0.2768 - accuracy: 0.9194 - val_loss: 0.2705 - val_accuracy: 0.9231\n",
      "Epoch 91/100\n",
      "469/469 [==============================] - 1s 2ms/step - loss: 0.2758 - accuracy: 0.9198 - val_loss: 0.2697 - val_accuracy: 0.9231\n",
      "Epoch 92/100\n",
      "469/469 [==============================] - 1s 3ms/step - loss: 0.2749 - accuracy: 0.9202 - val_loss: 0.2684 - val_accuracy: 0.9235\n",
      "Epoch 93/100\n",
      "469/469 [==============================] - 1s 3ms/step - loss: 0.2740 - accuracy: 0.9204 - val_loss: 0.2684 - val_accuracy: 0.9234\n",
      "Epoch 94/100\n",
      "469/469 [==============================] - 1s 3ms/step - loss: 0.2731 - accuracy: 0.9203 - val_loss: 0.2679 - val_accuracy: 0.9237\n",
      "Epoch 95/100\n",
      "469/469 [==============================] - 1s 3ms/step - loss: 0.2723 - accuracy: 0.9208 - val_loss: 0.2663 - val_accuracy: 0.9242\n",
      "Epoch 96/100\n",
      "469/469 [==============================] - 1s 3ms/step - loss: 0.2713 - accuracy: 0.9209 - val_loss: 0.2659 - val_accuracy: 0.9243\n",
      "Epoch 97/100\n",
      "469/469 [==============================] - 1s 3ms/step - loss: 0.2705 - accuracy: 0.9212 - val_loss: 0.2646 - val_accuracy: 0.9245\n",
      "Epoch 98/100\n",
      "469/469 [==============================] - 1s 2ms/step - loss: 0.2697 - accuracy: 0.9214 - val_loss: 0.2648 - val_accuracy: 0.9243\n",
      "Epoch 99/100\n",
      "469/469 [==============================] - 1s 3ms/step - loss: 0.2689 - accuracy: 0.9219 - val_loss: 0.2632 - val_accuracy: 0.9248\n",
      "Epoch 100/100\n",
      "469/469 [==============================] - 1s 2ms/step - loss: 0.2680 - accuracy: 0.9217 - val_loss: 0.2626 - val_accuracy: 0.9253\n"
     ]
    }
   ],
   "source": [
    "# Adding optimizer\n",
    "sgd = SGD(0.01) ## Learning rate is 0.01\n",
    "\n",
    "# Fitting and training\n",
    "model.compile(loss=\"categorical_crossentropy\", optimizer=sgd,\n",
    "\tmetrics=[\"accuracy\"])\n",
    "H = model.fit(trainX, trainY, validation_data=(testX, testY),\n",
    "\tepochs=100, batch_size=128)"
   ]
  },
  {
   "cell_type": "code",
   "execution_count": 5,
   "metadata": {
    "colab": {
     "base_uri": "https://localhost:8080/"
    },
    "id": "-g8SSNmSZcAY",
    "outputId": "636902b8-46c9-43e9-d70f-76d69325d8ed"
   },
   "outputs": [
    {
     "name": "stdout",
     "output_type": "stream",
     "text": [
      "Model: \"sequential\"\n",
      "_________________________________________________________________\n",
      " Layer (type)                Output Shape              Param #   \n",
      "=================================================================\n",
      " dense (Dense)               (None, 256)               200960    \n",
      "                                                                 \n",
      " dense_1 (Dense)             (None, 128)               32896     \n",
      "                                                                 \n",
      " dense_2 (Dense)             (None, 10)                1290      \n",
      "                                                                 \n",
      "=================================================================\n",
      "Total params: 235,146\n",
      "Trainable params: 235,146\n",
      "Non-trainable params: 0\n",
      "_________________________________________________________________\n",
      "None\n"
     ]
    }
   ],
   "source": [
    "print(model.summary())"
   ]
  },
  {
   "cell_type": "markdown",
   "metadata": {
    "id": "S-YGWU7XZ-QA"
   },
   "source": [
    "### 5. Evaluating the model"
   ]
  },
  {
   "cell_type": "code",
   "execution_count": 6,
   "metadata": {
    "colab": {
     "base_uri": "https://localhost:8080/"
    },
    "id": "TdvdIWNeZeYy",
    "outputId": "d9b94b39-a049-4694-cd37-54e5b385b257"
   },
   "outputs": [
    {
     "name": "stdout",
     "output_type": "stream",
     "text": [
      "79/79 [==============================] - 0s 2ms/step\n",
      "             precision    recall  f1-score   support\n",
      "\n",
      "          0       0.94      0.98      0.96       980\n",
      "          1       0.97      0.98      0.97      1135\n",
      "          2       0.92      0.91      0.91      1032\n",
      "          3       0.91      0.91      0.91      1010\n",
      "          4       0.92      0.94      0.93       982\n",
      "          5       0.91      0.86      0.89       892\n",
      "          6       0.93      0.95      0.94       958\n",
      "          7       0.93      0.93      0.93      1028\n",
      "          8       0.90      0.89      0.90       974\n",
      "          9       0.92      0.90      0.91      1009\n",
      "\n",
      "avg / total       0.93      0.93      0.93     10000\n",
      "\n"
     ]
    }
   ],
   "source": [
    "predictions = model.predict(testX, batch_size=128)\n",
    "print(classification_report(testY.argmax(axis=1),\n",
    "\tpredictions.argmax(axis=1),\n",
    "\ttarget_names=[str(x) for x in le.classes_]))"
   ]
  },
  {
   "cell_type": "markdown",
   "metadata": {
    "id": "4VFnUZmraEQh"
   },
   "source": [
    "### 6. Plotting training loss and accuracy"
   ]
  },
  {
   "cell_type": "code",
   "execution_count": 7,
   "metadata": {
    "colab": {
     "base_uri": "https://localhost:8080/",
     "height": 316
    },
    "id": "lOso-M3ZZgIR",
    "outputId": "e60968eb-5a1d-4f7a-de17-026e0fd62a71"
   },
   "outputs": [
    {
     "data": {
      "text/plain": [
       "<matplotlib.legend.Legend at 0x7f6b79ae8c18>"
      ]
     },
     "execution_count": 7,
     "metadata": {},
     "output_type": "execute_result"
    },
    {
     "data": {
      "image/png": "[encoded data removed]",
      "text/plain": [
       "<Figure size 432x288 with 1 Axes>"
      ]
     },
     "metadata": {},
     "output_type": "display_data"
    }
   ],
   "source": [
    "# plot the training loss and accuracy\n",
    "plt.style.use(\"ggplot\")\n",
    "plt.figure()\n",
    "plt.plot(np.arange(0, 100), H.history[\"loss\"], label=\"train_loss\")\n",
    "plt.plot(np.arange(0, 100), H.history[\"val_loss\"], label=\"val_loss\")\n",
    "plt.plot(np.arange(0, 100), H.history[\"accuracy\"], label=\"train_acc\")\n",
    "plt.plot(np.arange(0, 100), H.history[\"val_accuracy\"], label=\"val_acc\")\n",
    "plt.title(\"Training Loss and Accuracy\")\n",
    "plt.xlabel(\"Epoch #\")\n",
    "plt.ylabel(\"Loss/Accuracy\")\n",
    "plt.legend()"
   ]
  },
  {
   "cell_type": "code",
   "execution_count": null,
   "metadata": {
    "id": "aVcMmScZse_w"
   },
   "outputs": [],
   "source": []
  }
 ],
 "metadata": {
  "colab": {
   "collapsed_sections": [],
   "provenance": []
  },
  "kernelspec": {
   "display_name": "Python 3.10.6 64-bit",
   "language": "python",
   "name": "python3"
  },
  "language_info": {
   "codemirror_mode": {
    "name": "ipython",
    "version": 3
   },
   "file_extension": ".py",
   "mimetype": "text/x-python",
   "name": "python",
   "nbconvert_exporter": "python",
   "pygments_lexer": "ipython3",
   "version": "3.10.6"
  },
  "vscode": {
   "interpreter": {
    "hash": "916dbcbb3f70747c44a77c7bcd40155683ae19c65e1c03b4aa3499c5328201f1"
   }
  }
 },
 "nbformat": 4,
 "nbformat_minor": 1
}
