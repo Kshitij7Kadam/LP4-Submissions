{
 "cells": [
  {
   "cell_type": "markdown",
   "metadata": {
    "id": "PQuNR6EtYtl-"
   },
   "source": [
    "## Assignment 3\n",
    "### Name: Kshitij Mohan Kadam\n",
    "### Roll NO: 43133\n",
    "### Batch: Q9"
   ]
  },
  {
   "cell_type": "code",
   "execution_count": 1,
   "metadata": {
    "colab": {
     "base_uri": "https://localhost:8080/"
    },
    "id": "CxjnhO_wA_b8",
    "outputId": "44e1ebb7-1acd-4dbd-b397-e2be8c56fd6a"
   },
   "outputs": [
    {
     "name": "stdout",
     "output_type": "stream",
     "text": [
      "2.10.0\n"
     ]
    }
   ],
   "source": [
    "import tensorflow as tf\n",
    "import numpy as np\n",
    "import matplotlib.pyplot as plt\n",
    "print(tf.__version__)"
   ]
  },
  {
   "cell_type": "markdown",
   "metadata": {
    "id": "V0G9uQqPVryc"
   },
   "source": [
    "### 1. Loading and Preprocessing the image data"
   ]
  },
  {
   "cell_type": "code",
   "execution_count": 2,
   "metadata": {
    "colab": {
     "base_uri": "https://localhost:8080/"
    },
    "id": "hc1W_TI6Bh8R",
    "outputId": "cb4908d9-62c5-4182-b72a-bbf8e1938cdc"
   },
   "outputs": [],
   "source": [
    "(x_train, y_train), (x_test, y_test) = tf.keras.datasets.cifar10.load_data()"
   ]
  },
  {
   "cell_type": "code",
   "execution_count": 3,
   "metadata": {
    "colab": {
     "base_uri": "https://localhost:8080/"
    },
    "id": "opHewHI4By0i",
    "outputId": "fc8553c6-4d26-48c8-8c65-0b7704d0627d"
   },
   "outputs": [
    {
     "name": "stdout",
     "output_type": "stream",
     "text": [
      "train data shape: (50000, 32, 32, 3)\n",
      "label train shape: (50000, 1)\n",
      "test data shape: (10000, 32, 32, 3)\n",
      "label test shape: (10000, 1)\n"
     ]
    }
   ],
   "source": [
    "print(f\"train data shape: {x_train.shape}\")\n",
    "print(f\"label train shape: {y_train.shape}\")\n",
    "print(f\"test data shape: {x_test.shape}\")\n",
    "print(f\"label test shape: {y_test.shape}\")"
   ]
  },
  {
   "cell_type": "code",
   "execution_count": 4,
   "metadata": {
    "colab": {
     "base_uri": "https://localhost:8080/"
    },
    "id": "HijDJm84CQrH",
    "outputId": "4e2052aa-5b18-4528-c1c0-1802f46f6cbe"
   },
   "outputs": [
    {
     "data": {
      "text/plain": [
       "array([6], dtype=uint8)"
      ]
     },
     "execution_count": 4,
     "metadata": {},
     "output_type": "execute_result"
    }
   ],
   "source": [
    "y_train[0]"
   ]
  },
  {
   "cell_type": "code",
   "execution_count": 5,
   "metadata": {
    "id": "SXRrvqWICVrb"
   },
   "outputs": [],
   "source": [
    "num_classes = 10\n",
    "y_train = tf.keras.utils.to_categorical(y_train, num_classes=num_classes)\n",
    "y_test = tf.keras.utils.to_categorical(y_test, num_classes=num_classes)"
   ]
  },
  {
   "cell_type": "code",
   "execution_count": 6,
   "metadata": {
    "colab": {
     "base_uri": "https://localhost:8080/"
    },
    "id": "SKzbzz1TCqrD",
    "outputId": "cf1998e7-675b-4ce9-fddb-eb2f4145689e"
   },
   "outputs": [
    {
     "name": "stdout",
     "output_type": "stream",
     "text": [
      "label train shape: (50000, 10)\n",
      "label test shape: (10000, 10)\n"
     ]
    }
   ],
   "source": [
    "print(f\"label train shape: {y_train.shape}\")\n",
    "print(f\"label test shape: {y_test.shape}\")"
   ]
  },
  {
   "cell_type": "code",
   "execution_count": 7,
   "metadata": {
    "id": "vK5KnWmACsk5"
   },
   "outputs": [],
   "source": [
    "from tensorflow.keras.preprocessing.image import ImageDataGenerator"
   ]
  },
  {
   "cell_type": "code",
   "execution_count": 8,
   "metadata": {
    "id": "s-FjZ7zIDIRR"
   },
   "outputs": [],
   "source": [
    "def get_generator_aug():\n",
    "    data_generator_aug = ImageDataGenerator(rescale=(1/255.0),\n",
    "                                       rotation_range=35,\n",
    "                                       width_shift_range=0.3,\n",
    "                                       height_shift_range=0.3,\n",
    "                                       fill_mode='nearest',\n",
    "                                       brightness_range=(0.2,0.8),\n",
    "                                       shear_range=45.0,\n",
    "                                       horizontal_flip=True,\n",
    "                                       vertical_flip=True,\n",
    "                                       zoom_range=[0.5, 1.5])\n",
    "    return data_generator_aug"
   ]
  },
  {
   "cell_type": "code",
   "execution_count": 9,
   "metadata": {
    "id": "FIKtf8AoDoL5"
   },
   "outputs": [],
   "source": [
    "data_generator_aug = get_generator_aug()\n",
    "data_generator_aug.fit(x_train)\n",
    "train_generator_aug = data_generator_aug.flow(x_train, y_train, batch_size=10, shuffle=True)\n",
    "\n",
    "data_generator_aug_test = get_generator_aug()\n",
    "data_generator_aug_test.fit(x_test)\n",
    "train_generator_aug = data_generator_aug.flow(x_train, y_train, batch_size=10, shuffle=True)"
   ]
  },
  {
   "cell_type": "code",
   "execution_count": 10,
   "metadata": {
    "id": "jhGlX6oAEcSJ"
   },
   "outputs": [],
   "source": [
    "data_generator = ImageDataGenerator(rescale=(1/255.0))\n",
    "data_generator.fit(x_train)\n",
    "img_generator = data_generator.flow(x_train, y_train, batch_size=10, shuffle=False)"
   ]
  },
  {
   "cell_type": "markdown",
   "metadata": {
    "id": "zg-tJs6XVzR8"
   },
   "source": [
    "### 2. Defining model architecture"
   ]
  },
  {
   "cell_type": "code",
   "execution_count": 11,
   "metadata": {
    "id": "t_gl6u_-FiRA"
   },
   "outputs": [],
   "source": [
    "from tensorflow.keras.layers import Input, Conv2D, MaxPooling2D, Flatten, Dense\n",
    "from tensorflow.keras.models import Model"
   ]
  },
  {
   "cell_type": "code",
   "execution_count": 12,
   "metadata": {
    "id": "Qjrb5NZ0Ex0j"
   },
   "outputs": [],
   "source": [
    "def get_model(input_shape):\n",
    "  input_layer = Input(input_shape)\n",
    "  layer1 = Conv2D(32, 8, activation='relu', padding='SAME')(input_layer)\n",
    "  layer2 = MaxPooling2D((2,2))(layer1)\n",
    "  layer3 = Conv2D(32, 4, activation='relu', padding='SAME')(layer2)\n",
    "  layer4 = MaxPooling2D((2,2))(layer3)\n",
    "  layer5 = Flatten()(layer4)\n",
    "  layer6 = Dense(16, activation=\"relu\")(layer5)\n",
    "  output_layer = Dense(10, activation='softmax')(layer6)\n",
    "\n",
    "  model = Model(inputs=input_layer, outputs=output_layer)\n",
    "\n",
    "  model.compile(optimizer=tf.keras.optimizers.Adam(3e-4),\n",
    "                loss='categorical_crossentropy', metrics=[tf.keras.metrics.CategoricalAccuracy()])\n",
    "  return model"
   ]
  },
  {
   "cell_type": "code",
   "execution_count": 13,
   "metadata": {
    "colab": {
     "base_uri": "https://localhost:8080/"
    },
    "id": "1t04cl8TG7NH",
    "outputId": "cf2ef0a4-cf52-4a8e-9ae5-1e61f5f88e60"
   },
   "outputs": [
    {
     "name": "stdout",
     "output_type": "stream",
     "text": [
      "Model: \"model\"\n",
      "_________________________________________________________________\n",
      " Layer (type)                Output Shape              Param #   \n",
      "=================================================================\n",
      " input_1 (InputLayer)        [(None, 32, 32, 3)]       0         \n",
      "                                                                 \n",
      " conv2d (Conv2D)             (None, 32, 32, 32)        6176      \n",
      "                                                                 \n",
      " max_pooling2d (MaxPooling2D  (None, 16, 16, 32)       0         \n",
      " )                                                               \n",
      "                                                                 \n",
      " conv2d_1 (Conv2D)           (None, 16, 16, 32)        16416     \n",
      "                                                                 \n",
      " max_pooling2d_1 (MaxPooling  (None, 8, 8, 32)         0         \n",
      " 2D)                                                             \n",
      "                                                                 \n",
      " flatten (Flatten)           (None, 2048)              0         \n",
      "                                                                 \n",
      " dense (Dense)               (None, 16)                32784     \n",
      "                                                                 \n",
      " dense_1 (Dense)             (None, 10)                170       \n",
      "                                                                 \n",
      "=================================================================\n",
      "Total params: 55,546\n",
      "Trainable params: 55,546\n",
      "Non-trainable params: 0\n",
      "_________________________________________________________________\n"
     ]
    }
   ],
   "source": [
    "model = get_model((32,32,3))\n",
    "model.summary()"
   ]
  },
  {
   "cell_type": "markdown",
   "metadata": {
    "id": "j4pv3a_jV5s2"
   },
   "source": [
    "### 3. Training the model"
   ]
  },
  {
   "cell_type": "code",
   "execution_count": 14,
   "metadata": {
    "id": "SH7hulcvH3db"
   },
   "outputs": [],
   "source": [
    "from tensorflow.keras.callbacks import EarlyStopping\n",
    "\n",
    "train_steps_per_epoch = img_generator.n // img_generator.batch_size"
   ]
  },
  {
   "cell_type": "code",
   "execution_count": 15,
   "metadata": {
    "colab": {
     "base_uri": "https://localhost:8080/"
    },
    "id": "ghv7R-nuIk3z",
    "outputId": "6f71cd0c-648e-44dd-8e96-1c682e8cbdd3"
   },
   "outputs": [
    {
     "name": "stdout",
     "output_type": "stream",
     "text": [
      "Epoch 1/10\n",
      "5000/5000 [==============================] - 50s 10ms/step - loss: 1.7500 - categorical_accuracy: 0.3627 - val_loss: 158.7834 - val_categorical_accuracy: 0.4292\n",
      "Epoch 2/10\n",
      "5000/5000 [==============================] - 47s 9ms/step - loss: 1.3638 - categorical_accuracy: 0.5047 - val_loss: 210.6111 - val_categorical_accuracy: 0.4439\n",
      "Epoch 3/10\n",
      "5000/5000 [==============================] - 48s 10ms/step - loss: 1.2249 - categorical_accuracy: 0.5593 - val_loss: 181.1259 - val_categorical_accuracy: 0.4783\n",
      "Epoch 4/10\n",
      "5000/5000 [==============================] - 47s 9ms/step - loss: 1.1409 - categorical_accuracy: 0.5905 - val_loss: 176.2382 - val_categorical_accuracy: 0.5090\n",
      "Epoch 5/10\n",
      "5000/5000 [==============================] - 53s 11ms/step - loss: 1.0737 - categorical_accuracy: 0.6165 - val_loss: 179.3501 - val_categorical_accuracy: 0.5087\n",
      "Epoch 6/10\n",
      "5000/5000 [==============================] - 52s 10ms/step - loss: 1.0244 - categorical_accuracy: 0.6348 - val_loss: 188.1238 - val_categorical_accuracy: 0.5070\n",
      "Epoch 7/10\n",
      "5000/5000 [==============================] - 50s 10ms/step - loss: 0.9800 - categorical_accuracy: 0.6514 - val_loss: 169.8233 - val_categorical_accuracy: 0.5439\n",
      "Epoch 8/10\n",
      "5000/5000 [==============================] - 54s 11ms/step - loss: 0.9464 - categorical_accuracy: 0.6647 - val_loss: 207.4597 - val_categorical_accuracy: 0.4954\n",
      "Epoch 9/10\n",
      "5000/5000 [==============================] - 52s 10ms/step - loss: 0.9123 - categorical_accuracy: 0.6766 - val_loss: 140.5052 - val_categorical_accuracy: 0.5879\n",
      "Epoch 10/10\n",
      "5000/5000 [==============================] - 52s 10ms/step - loss: 0.8833 - categorical_accuracy: 0.6871 - val_loss: 185.5188 - val_categorical_accuracy: 0.5134\n"
     ]
    }
   ],
   "source": [
    "history = model.fit(img_generator, steps_per_epoch=train_steps_per_epoch, validation_data=(x_test,y_test),epochs=10, callbacks=[EarlyStopping(monitor='val_categorical_accuracy', patience=5)])"
   ]
  },
  {
   "cell_type": "markdown",
   "metadata": {
    "id": "oxMFQmoJV9oi"
   },
   "source": [
    "### 4. Evaluating its performance"
   ]
  },
  {
   "cell_type": "code",
   "execution_count": 16,
   "metadata": {
    "id": "FW_UyFhyXtb6"
   },
   "outputs": [],
   "source": [
    "from sklearn.metrics import accuracy_score"
   ]
  },
  {
   "cell_type": "code",
   "execution_count": 17,
   "metadata": {
    "colab": {
     "base_uri": "https://localhost:8080/"
    },
    "id": "ofJe3oOsWAi-",
    "outputId": "dfd80706-3e16-42e3-ce6b-f16f9f416337"
   },
   "outputs": [
    {
     "name": "stdout",
     "output_type": "stream",
     "text": [
      "313/313 [==============================] - 2s 5ms/step\n"
     ]
    }
   ],
   "source": [
    "y_pred = model.predict(x_test)"
   ]
  },
  {
   "cell_type": "code",
   "execution_count": 18,
   "metadata": {
    "id": "mjIpWF_iYJdh"
   },
   "outputs": [],
   "source": [
    "y_pred = np.argmax(y_pred, axis=1)"
   ]
  },
  {
   "cell_type": "code",
   "execution_count": 19,
   "metadata": {
    "id": "En4pvLh7YP7o"
   },
   "outputs": [],
   "source": [
    "y_test = np.argmax(y_test, axis=1)"
   ]
  },
  {
   "cell_type": "code",
   "execution_count": 20,
   "metadata": {
    "colab": {
     "base_uri": "https://localhost:8080/"
    },
    "id": "spxMxH3HX8wj",
    "outputId": "16afbe6b-5c47-467c-c5e5-d920a6e698d3"
   },
   "outputs": [
    {
     "name": "stdout",
     "output_type": "stream",
     "text": [
      "0.5134\n"
     ]
    }
   ],
   "source": [
    "print(accuracy_score(y_test, y_pred))"
   ]
  },
  {
   "cell_type": "code",
   "execution_count": null,
   "metadata": {
    "id": "qRgr4TWNDpkX"
   },
   "outputs": [],
   "source": []
  }
 ],
 "metadata": {
  "accelerator": "TPU",
  "colab": {
   "collapsed_sections": [],
   "provenance": []
  },
  "kernelspec": {
   "display_name": "Python 3 (ipykernel)",
   "language": "python",
   "name": "python3"
  },
  "language_info": {
   "codemirror_mode": {
    "name": "ipython",
    "version": 3
   },
   "file_extension": ".py",
   "mimetype": "text/x-python",
   "name": "python",
   "nbconvert_exporter": "python",
   "pygments_lexer": "ipython3",
   "version": "3.7.0"
  }
 },
 "nbformat": 4,
 "nbformat_minor": 1
}
