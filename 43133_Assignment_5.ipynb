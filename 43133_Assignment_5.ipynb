{
 "cells": [
  {
   "cell_type": "markdown",
   "metadata": {
    "id": "0x1De8Z-ylFH"
   },
   "source": [
    "## Assignment 5\n",
    "### Name: Kshitij Mohan Kadam\n",
    "### Roll NO: 43133\n",
    "### Batch: Q9"
   ]
  },
  {
   "cell_type": "markdown",
   "metadata": {
    "id": "7tqPzDqQjyIb"
   },
   "source": [
    "1. Import following libraries gensim and numpy set i.e. text file created . It should be \n",
    "preprocessed.\n"
   ]
  },
  {
   "cell_type": "code",
   "execution_count": 1,
   "metadata": {
    "id": "ApaONDyueLJQ"
   },
   "outputs": [],
   "source": [
    "import numpy as np\n",
    "import keras.backend as K\n",
    "from keras.models import Sequential\n",
    "from keras.layers import Dense, Embedding, Lambda\n",
    "from keras.utils import np_utils\n",
    "from keras.preprocessing import sequence\n",
    "from keras.preprocessing.text import Tokenizer\n",
    "import gensim"
   ]
  },
  {
   "cell_type": "markdown",
   "metadata": {
    "id": "5anv92oAj7lq"
   },
   "source": [
    "2. Tokenize the every word from the paragraph . You can call in built tokenizer present in Gensim"
   ]
  },
  {
   "cell_type": "code",
   "execution_count": 2,
   "metadata": {
    "colab": {
     "base_uri": "https://localhost:8080/",
     "height": 200
    },
    "id": "QZCZDX13eM1x",
    "outputId": "79a88c67-b717-4404-9937-17c94c7021e8"
   },
   "outputs": [],
   "source": [
    "data=open('covid.txt','r')\n",
    "corona_data = [text for text in data if text.count(' ') >= 2]\n",
    "vectorize = Tokenizer()"
   ]
  },
  {
   "cell_type": "markdown",
   "metadata": {
    "id": "wva6lRSkkH9R"
   },
   "source": [
    "3. Fit the data to tokenizer"
   ]
  },
  {
   "cell_type": "code",
   "execution_count": 3,
   "metadata": {
    "id": "42IXVkqOkB2C"
   },
   "outputs": [],
   "source": [
    "vectorize.fit_on_texts(corona_data)\n",
    "corona_data = vectorize.texts_to_sequences(corona_data)"
   ]
  },
  {
   "cell_type": "markdown",
   "metadata": {
    "id": "ZunNJd2UkK5S"
   },
   "source": [
    "4. Find total no of words and total no of sentences.\n"
   ]
  },
  {
   "cell_type": "code",
   "execution_count": 4,
   "metadata": {
    "id": "rkMvSyGMkOHh"
   },
   "outputs": [],
   "source": [
    "total_vocab = sum(len(s) for s in corona_data)\n",
    "word_count = len(vectorize.word_index) + 1\n",
    "window_size = 2"
   ]
  },
  {
   "cell_type": "markdown",
   "metadata": {
    "id": "ohPp7w7gkbnR"
   },
   "source": [
    "5. Generate the pairs of Context words and target words "
   ]
  },
  {
   "cell_type": "code",
   "execution_count": 5,
   "metadata": {
    "id": "hHbsMb5kgVxi"
   },
   "outputs": [],
   "source": [
    " def cbow_model(data, window_size, total_vocab):\n",
    "    total_length = window_size*2\n",
    "    for text in data:\n",
    "        text_len = len(text)\n",
    "        for idx, word in enumerate(text):\n",
    "            context_word = []\n",
    "            target   = []            \n",
    "            begin = idx - window_size\n",
    "            end = idx + window_size + 1\n",
    "            context_word.append([text[i] for i in range(begin, end) if 0 <= i < text_len and i != idx])\n",
    "            target.append(word)\n",
    "            contextual = sequence.pad_sequences(context_word, total_length=total_length)\n",
    "            final_target = np_utils.to_categorical(target, total_vocab)\n",
    "            yield(contextual, final_target) "
   ]
  },
  {
   "cell_type": "markdown",
   "metadata": {
    "id": "qGNxXrTFklKy"
   },
   "source": [
    "6. Create Neural Network model with following parameters : \n",
    "*   Model type : sequential \n",
    "*   Layers : Dense , Lambda , embedding. Compile\n",
    "*   Options : (loss='categorical_crossentropy', optimizer='adam')\n",
    "\n",
    "\n",
    "\n",
    " "
   ]
  },
  {
   "cell_type": "code",
   "execution_count": 6,
   "metadata": {
    "colab": {
     "base_uri": "https://localhost:8080/"
    },
    "id": "_DNw7_3ygZpv",
    "outputId": "602d071d-4f1e-4dd8-d119-a1de17ca6fd8"
   },
   "outputs": [
    {
     "name": "stdout",
     "output_type": "stream",
     "text": [
      "0 0\n",
      "1 0\n",
      "2 0\n",
      "3 0\n",
      "4 0\n",
      "5 0\n",
      "6 0\n",
      "7 0\n",
      "8 0\n",
      "9 0\n"
     ]
    }
   ],
   "source": [
    "model = Sequential()\n",
    "model.add(Embedding(input_dim=total_vocab, output_dim=100, input_length=window_size*2))\n",
    "model.add(Lambda(lambda x: K.mean(x, axis=1), output_shape=(100,)))\n",
    "model.add(Dense(total_vocab, activation='softmax'))\n",
    "model.compile(loss='categorical_crossentropy', optimizer='adam')\n",
    "for i in range(10):\n",
    "    cost = 0\n",
    "    for x, y in cbow_model(data, window_size, total_vocab):\n",
    "        cost += model.train_on_batch(contextual, final_target)\n",
    "    print(i, cost)"
   ]
  },
  {
   "cell_type": "markdown",
   "metadata": {
    "id": "I8WLdvXxkn7o"
   },
   "source": [
    "7. Create vector file of some word for testing "
   ]
  },
  {
   "cell_type": "code",
   "execution_count": 8,
   "metadata": {
    "colab": {
     "base_uri": "https://localhost:8080/"
    },
    "id": "zZb3adnfgaXA",
    "outputId": "84501619-095a-46a6-fdce-6a3fc6de96b7"
   },
   "outputs": [
    {
     "data": {
      "text/plain": [
       "8"
      ]
     },
     "execution_count": 8,
     "metadata": {},
     "output_type": "execute_result"
    }
   ],
   "source": [
    "dimensions=100\n",
    "vect_file = open('vectors.txt' ,'w')\n",
    "vect_file.write('{} {}\\n'.format(total_vocab,dimensions))"
   ]
  },
  {
   "cell_type": "markdown",
   "metadata": {
    "id": "ejbKj06iksIh"
   },
   "source": [
    "8. Assign weights to your trained model"
   ]
  },
  {
   "cell_type": "code",
   "execution_count": 9,
   "metadata": {
    "id": "zKEL7K_Hge4A"
   },
   "outputs": [],
   "source": [
    "weights = model.get_weights()[0]\n",
    "for text, i in vectorize.word_index.items():\n",
    "    final_vec = ' '.join(map(str, list(weights[i, :])))\n",
    "    vect_file.write('{} {}\\n'.format(text, final_vec))\n",
    "vect_file.close()"
   ]
  },
  {
   "cell_type": "markdown",
   "metadata": {
    "id": "BS0O5uQZkuyb"
   },
   "source": [
    "9. Use the vectors created in Gemsim"
   ]
  },
  {
   "cell_type": "code",
   "execution_count": 10,
   "metadata": {
    "id": "PyHf-FT3ghLX"
   },
   "outputs": [],
   "source": [
    "cbow_output = gensim.models.KeyedVectors.load_word2vec_format('vectors.txt', binary = False, limit=100)"
   ]
  },
  {
   "cell_type": "markdown",
   "metadata": {
    "id": "k7wEZbxzk7pg"
   },
   "source": [
    "10. choose the word to get similar type of words"
   ]
  },
  {
   "cell_type": "code",
   "execution_count": 11,
   "metadata": {
    "colab": {
     "base_uri": "https://localhost:8080/",
     "height": 165
    },
    "id": "b7RcJmLTg45Z",
    "outputId": "d80fd8f3-1b1a-405e-ec8b-df14d684e475"
   },
   "outputs": [
    {
     "data": {
      "text/plain": [
       "[('period', 0.2765771150588989),\n",
       " ('interval', 0.2423839122056961),\n",
       " ('between', 0.23330439627170563),\n",
       " ('has', 0.21036207675933838),\n",
       " ('speed', 0.1923811286687851),\n",
       " ('can', 0.16223500669002533),\n",
       " ('generated', 0.15384243428707123),\n",
       " ('from', 0.15332293510437012),\n",
       " ('successive', 0.14052745699882507),\n",
       " ('symptomatic', 0.1286526471376419)]"
      ]
     },
     "execution_count": 11,
     "metadata": {},
     "output_type": "execute_result"
    }
   ],
   "source": [
    "cbow_output.most_similar(positive=['virus'])"
   ]
  }
 ],
 "metadata": {
  "colab": {
   "collapsed_sections": [],
   "provenance": []
  },
  "kernelspec": {
   "display_name": "Python 3 (ipykernel)",
   "language": "python",
   "name": "python3"
  },
  "language_info": {
   "codemirror_mode": {
    "name": "ipython",
    "version": 3
   },
   "file_extension": ".py",
   "mimetype": "text/x-python",
   "name": "python",
   "nbconvert_exporter": "python",
   "pygments_lexer": "ipython3",
   "version": "3.7.0"
  }
 },
 "nbformat": 4,
 "nbformat_minor": 1
}
